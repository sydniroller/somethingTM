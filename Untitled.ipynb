{
 "cells": [
  {
   "cell_type": "code",
   "execution_count": 1,
   "metadata": {},
   "outputs": [
    {
     "name": "stdin",
     "output_type": "stream",
     "text": [
      "Please enter your name: sydni\n",
      "Please enter your numerical  birthday (month/day): 01/12\n"
     ]
    },
    {
     "name": "stdout",
     "output_type": "stream",
     "text": [
      "\n",
      "\n",
      "sydni, your zodiac sign is: Capricorn\n",
      "\n"
     ]
    }
   ],
   "source": [
    "name = input(\"Please enter your name:\")\n",
    "bday = input(\"Please enter your numerical  birthday (month/day):\")\n",
    "\n",
    "bdayParts = bday.split(\"/\")\n",
    "month = int(bdayParts[0])\n",
    "day = int(bdayParts[1])\n",
    "\n",
    "if (( month == 3 and day >= 21 ) or (month == 4 and day <=20)):\n",
    "\tzodiac = \"Aries\"\n",
    "elif((month == 4 and day >= 21) or (month == 5 and day <= 21)):\n",
    "\tzodiac = \"Taurus\"\n",
    "elif((month == 5 and day >= 22) or (month == 6 and day <= 21)):\n",
    "\tzodiac = \"Gemini\"\n",
    "elif((month == 6 and day >= 22) or (month == 7 and day <= 23)):\n",
    "\tzodiac = \"Cancer\"\n",
    "elif((month == 7 and day >= 24) or (month == 8 and day <= 23)):\n",
    "\tzodiac = \"Leo\"\n",
    "elif((month == 8 and day >= 24) or (month == 9 and day <= 23)):\n",
    "\tzodiac = \"Virgo\"\n",
    "elif((month == 9 and day >= 24) or (month == 10 and day <= 23)):\n",
    "\tzodiac = \"Libra\"\n",
    "elif((month == 10 and day >= 24) or (month == 11 and day <= 22)):\n",
    "\tzodiac = \"Scorpio\"\n",
    "elif((month == 11 and day >= 23) or (month == 12 and day <=22)):\n",
    "\tzodiac = \"Sagittarius\"\n",
    "elif((month == 12 and day >= 23) or (month == 1 and day <=20)):\n",
    "\tzodiac = \"Capricorn\"\n",
    "elif((month == 1 and day >= 21) or (month == 2 and day <=19)):\n",
    "\tzodiac = \"Aquarius\"\n",
    "else:\n",
    "\tzodiac = \"Pisces\"\n",
    "\n",
    "print(\"\\n\\n\" + name + \", your zodiac sign is: \" + zodiac + \"\\n\")"
   ]
  },
  {
   "cell_type": "code",
   "execution_count": null,
   "metadata": {},
   "outputs": [],
   "source": []
  }
 ],
 "metadata": {
  "kernelspec": {
   "display_name": "Python 3.7",
   "language": "python",
   "name": "python3"
  },
  "language_info": {
   "codemirror_mode": {
    "name": "ipython",
    "version": 3
   },
   "file_extension": ".py",
   "mimetype": "text/x-python",
   "name": "python",
   "nbconvert_exporter": "python",
   "pygments_lexer": "ipython3",
   "version": "3.7.0"
  }
 },
 "nbformat": 4,
 "nbformat_minor": 2
}
